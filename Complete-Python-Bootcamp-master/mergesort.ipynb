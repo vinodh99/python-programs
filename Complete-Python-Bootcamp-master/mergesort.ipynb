{
 "cells": [
  {
   "cell_type": "code",
   "execution_count": null,
   "metadata": {
    "collapsed": true
   },
   "outputs": [],
   "source": [
    "def merge(a,b):\n",
    "    c=[]\n",
    "    while len(a)!=0 and len(b) !=0:\n",
    "        if a[0]<b[0]:\n",
    "            c.append(a[0])\n",
    "            a.remove(a[0])\n",
    "        else:\n",
    "            c.append(b[0])\n",
    "            b.remove(b[0])\n",
    "    if len(a)==0:\n",
    "        c+=b\n",
    "    else:\n",
    "        c+=a\n",
    "    return c\n",
    "def mergesort(l):\n",
    "    if len(l)==0 or len(l)==1:\n",
    "        return l\n",
    "    else:\n",
    "        mid=len(l)/2\n",
    "        a=mergesort(l[:mid])\n",
    "        b=mergesort(l[mid:])\n",
    "        return merge(a,b)\n",
    "\n",
    "mergesort([6,5,4,7,8,9])"
   ]
  }
 ],
 "metadata": {
  "kernelspec": {
   "display_name": "Python 2",
   "language": "python",
   "name": "python2"
  },
  "language_info": {
   "codemirror_mode": {
    "name": "ipython",
    "version": 2
   },
   "file_extension": ".py",
   "mimetype": "text/x-python",
   "name": "python",
   "nbconvert_exporter": "python",
   "pygments_lexer": "ipython2",
   "version": "2.7.14"
  }
 },
 "nbformat": 4,
 "nbformat_minor": 2
}
