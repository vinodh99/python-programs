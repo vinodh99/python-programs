{
 "cells": [
  {
   "cell_type": "code",
   "execution_count": 1,
   "metadata": {},
   "outputs": [
    {
     "name": "stdout",
     "output_type": "stream",
     "text": [
      "<html><head><title>Current IP Check</title></head><body>Current IP Address: 130.65.254.10</body></html>\r\n",
      "\n"
     ]
    }
   ],
   "source": [
    "import urllib2\n",
    "from urllib2 import urlopen\n",
    "print str(urlopen('http://checkip.dyndns.com/').read())"
   ]
  },
  {
   "cell_type": "code",
   "execution_count": 41,
   "metadata": {},
   "outputs": [
    {
     "name": "stdout",
     "output_type": "stream",
     "text": [
      "130.65.254.10\n",
      "Your City : San Jose\n",
      "Your Region : California\n",
      "Your Country : US\n",
      "Your Location : 37.3422,-121.8833\n"
     ]
    }
   ],
   "source": [
    "import urllib2\n",
    "from urllib2 import urlopen\n",
    "import json\n",
    "import re\n",
    "\n",
    "# Get Public IP\n",
    "\n",
    "\n",
    "def getPublicIP():\n",
    "    data = str(urlopen('http://checkip.dyndns.com/').read())\n",
    "    return re.compile(r'Address: (\\d+.\\d+.\\d+.\\d+)').search(data).group(1)\n",
    "\n",
    "IP = str(getPublicIP())\n",
    "print IP\n",
    "# Get Location\n",
    "url = 'http://ipinfo.io/' + IP + '/json'\n",
    "response = urlopen(url)\n",
    "data = json.load(response)\n",
    "\n",
    "city = data['city']\n",
    "region = data['region']\n",
    "country = data['country']\n",
    "location = data['loc']\n",
    "org = data['org']\n",
    "\n",
    "# Print Extracted Details\n",
    "print \"Your City : \" + city\n",
    "print \"Your Region : \" + region\n",
    "print \"Your Country : \" + country\n",
    "print \"Your Location : \" + location"
   ]
  },
  {
   "cell_type": "code",
   "execution_count": 42,
   "metadata": {},
   "outputs": [
    {
     "name": "stdout",
     "output_type": "stream",
     "text": [
      "130.65.254.10\n",
      "your city:San Jose\n",
      "your region:California\n",
      "your country:US\n",
      "your location37.3422,-121.8833\n"
     ]
    }
   ],
   "source": [
    "import urllib2\n",
    "from urllib2 import urlopen\n",
    "import json\n",
    "import re\n",
    "\n",
    "def publicip():\n",
    "    dipaddr=str(urlopen('http://checkip.dyndns.com/').read())\n",
    "    return re.compile(r'Address: (\\d+.\\d+.\\d+.\\d+)').search(dipaddr).group(1)\n",
    "ip=str(publicip())\n",
    "print ip\n",
    "url ='http://ipinfo.io/'+ip +'/json'\n",
    "response=urlopen(url)\n",
    "info=json.load(response)\n",
    "city=info['city']\n",
    "region=info['region']\n",
    "country=info['country']\n",
    "\n",
    "\n",
    "print 'your city:'+city\n",
    "print 'your region:'+region\n",
    "print 'your country:'+country\n",
    "print 'your location'+location\n",
    "\n"
   ]
  },
  {
   "cell_type": "code",
   "execution_count": null,
   "metadata": {
    "collapsed": true
   },
   "outputs": [],
   "source": []
  }
 ],
 "metadata": {
  "kernelspec": {
   "display_name": "Python 2",
   "language": "python",
   "name": "python2"
  },
  "language_info": {
   "codemirror_mode": {
    "name": "ipython",
    "version": 2
   },
   "file_extension": ".py",
   "mimetype": "text/x-python",
   "name": "python",
   "nbconvert_exporter": "python",
   "pygments_lexer": "ipython2",
   "version": "2.7.14"
  }
 },
 "nbformat": 4,
 "nbformat_minor": 2
}
