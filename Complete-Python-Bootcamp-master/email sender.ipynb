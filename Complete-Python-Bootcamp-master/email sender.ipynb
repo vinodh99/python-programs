{
 "cells": [
  {
   "cell_type": "code",
   "execution_count": null,
   "metadata": {},
   "outputs": [],
   "source": [
    "import smtplib\n",
    "from smtplib import SMTP\n",
    "import re\n",
    "import time\n",
    "import sched\n",
    "from threading import Timer\n",
    "import schedule"
   ]
  },
  {
   "cell_type": "code",
   "execution_count": null,
   "metadata": {
    "collapsed": true
   },
   "outputs": [],
   "source": [
    "def email_alert():\n",
    "\n",
    "    sender = 'vin22pl@gmail.com'\n",
    "    password = 'vinsri851994'\n",
    "    recipient = 'vinodh2019@gmail.com'  \n",
    "    server = smtplib.SMTP('smtp.gmail.com:587')  \n",
    "    server.ehlo()\n",
    "    server.starttls()\n",
    "    server.login(sender, password)\n",
    "    headers = [\"from: \" + sender,\n",
    "               \"subject: kitchen cleaning\",\n",
    "               \"to: \" + recipient,\n",
    "               \"mime-version: 1.0\",\n",
    "               \"content-type: text/html\"]\n",
    "    headers = \"\\r\\n\".join(headers)\n",
    "    server.sendmail(sender, recipient, headers + \"\\r\\n\\r\\n Hello,<br>This is just a reminder for your kitchen cleaning.</br><br><br> Thank you.</br></br>\")\n",
    "    server.quit()"
   ]
  },
  {
   "cell_type": "code",
   "execution_count": null,
   "metadata": {},
   "outputs": [],
   "source": [
    "schedule.every().wednesday.at(\"21:00\").do(email_alert)\n",
    "while True:\n",
    "    schedule.run_pending()\n",
    "    time.sleep(1)"
   ]
  },
  {
   "cell_type": "code",
   "execution_count": 65,
   "metadata": {
    "collapsed": true
   },
   "outputs": [],
   "source": [
    "def print_time():\n",
    "    print \"From print_time\", time.time()\n",
    "    def print_some_times():\n",
    "        print time.time()\n",
    "        Timer(5, print_time, ()).start()\n",
    "        Timer(10, print_time, ()).start()\n",
    "        time.sleep(100)  # sleep while time-delay events execute\n",
    "        print time.time()"
   ]
  },
  {
   "cell_type": "code",
   "execution_count": 87,
   "metadata": {},
   "outputs": [
    {
     "name": "stdout",
     "output_type": "stream",
     "text": [
      "From print_time 1517891097.04\n"
     ]
    }
   ],
   "source": [
    "print_time()"
   ]
  },
  {
   "cell_type": "code",
   "execution_count": null,
   "metadata": {
    "collapsed": true
   },
   "outputs": [],
   "source": [
    "import smtplib\n",
    "from smtplib import SMTP\n",
    "import re\n",
    "import time\n",
    "import sched\n",
    "from threading import Timer\n",
    "import schedule\n",
    "def email_alert1():\n",
    "\n",
    "    sender = 'vin22pl@gmail.com'\n",
    "    password = 'vinsri851994'\n",
    "    recipient = 'vinodh2019@gmail.com'  \n",
    "    server = smtplib.SMTP('smtp.gmail.com:587')  \n",
    "    server.ehlo()\n",
    "    server.starttls()\n",
    "    server.login(sender, password)\n",
    "    headers = [\"from: \" + sender,\n",
    "               \"subject: kitchen cleaning\",\n",
    "               \"to: \" + recipient,\n",
    "               \"mime-version: 1.0\",\n",
    "               \"content-type: text/html\"]\n",
    "    headers = \"\\r\\n\".join(headers)\n",
    "    server.sendmail(sender, recipient, headers + \"\\r\\n\\r\\n Hello,<br>This is just a reminder for your kitchen cleaning.</br><br><br> Thank you.</br></br><br><br>This is an auto generated email, please do not reply</br></br>\")\n",
    "    server.quit()\n",
    "def email_alert2():\n",
    "\n",
    "    sender = 'vin22pl@gmail.com'\n",
    "    password = 'vinsri851994'\n",
    "    recipient = 'praneeth1795@gmail.com'  \n",
    "    server = smtplib.SMTP('smtp.gmail.com:587')  \n",
    "    server.ehlo()\n",
    "    server.starttls()\n",
    "    server.login(sender, password)\n",
    "    headers = [\"from: \" + sender,\n",
    "               \"subject: kitchen cleaning\",\n",
    "               \"to: \" + recipient,\n",
    "               \"mime-version: 1.0\",\n",
    "               \"content-type: text/html\"]\n",
    "    headers = \"\\r\\n\".join(headers)\n",
    "    server.sendmail(sender, recipient, headers + \"\\r\\n\\r\\n Hello,<br>This is just a reminder for your kitchen cleaning.</br><br><br> Thank you.</br></br><br><br>This is an auto generated email, please do not reply</br></br>\")\n",
    "    server.quit()\n",
    "def email_alert3():\n",
    "\n",
    "    sender = 'vin22pl@gmail.com'\n",
    "    password = 'vinsri851994'\n",
    "    recipient = 'banakapallisarat@gmail.com'  \n",
    "    server = smtplib.SMTP('smtp.gmail.com:587')  \n",
    "    server.ehlo()\n",
    "    server.starttls()\n",
    "    server.login(sender, password)\n",
    "    headers = [\"from: \" + sender,\n",
    "               \"subject: kitchen cleaning\",\n",
    "               \"to: \" + recipient,\n",
    "               \"mime-version: 1.0\",\n",
    "               \"content-type: text/html\"]\n",
    "    headers = \"\\r\\n\".join(headers)\n",
    "    server.sendmail(sender, recipient, headers + \"\\r\\n\\r\\n Hello,<br>This is just a reminder for your kitchen cleaning.</br><br><br> Thank you.</br></br><br><br>This is an auto generated email, please do not reply</br></br>\")\n",
    "    server.quit()\n",
    "def email_alert4():\n",
    "\n",
    "    sender = 'vin22pl@gmail.com'\n",
    "    password = 'vinsri851994'\n",
    "    recipient = 'madhusudhan9kings@gmail.com'  \n",
    "    server = smtplib.SMTP('smtp.gmail.com:587')  \n",
    "    server.ehlo()\n",
    "    server.starttls()\n",
    "    server.login(sender, password)\n",
    "    headers = [\"from: \" + sender,\n",
    "               \"subject: kitchen cleaning\",\n",
    "               \"to: \" + recipient,\n",
    "               \"mime-version: 1.0\",\n",
    "               \"content-type: text/html\"]\n",
    "    headers = \"\\r\\n\".join(headers)\n",
    "    server.sendmail(sender, recipient, headers + \"\\r\\n\\r\\n Hello,<br>This is just a reminder for your kitchen cleaning.</br><br><br> Thank you.</br></br><br><br>This is an auto generated email, please do not reply</br></br>\")\n",
    "    server.quit()\n",
    "def email_alert5():\n",
    "\n",
    "    sender = 'vin22pl@gmail.com'\n",
    "    password = 'vinsri851994'\n",
    "    recipient = 'sairamsubhash.ganti@sjsu.edu'  \n",
    "    server = smtplib.SMTP('smtp.gmail.com:587')  \n",
    "    server.ehlo()\n",
    "    server.starttls()\n",
    "    server.login(sender, password)\n",
    "    headers = [\"from: \" + sender,\n",
    "               \"subject: kitchen cleaning\",\n",
    "               \"to: \" + recipient,\n",
    "               \"mime-version: 1.0\",\n",
    "               \"content-type: text/html\"]\n",
    "    headers = \"\\r\\n\".join(headers)\n",
    "    server.sendmail(sender, recipient, headers + \"\\r\\n\\r\\n Hello,<br>This is just a reminder for your kitchen cleaning.</br><br><br> Thank you.</br></br><br><br>This is an auto generated email, please do not reply</br></br>\")\n",
    "    server.quit()\n",
    "def email_alert6():\n",
    "\n",
    "    sender = 'vin22pl@gmail.com'\n",
    "    password = 'vinsri851994'\n",
    "    recipient = 'sreekar.adapa@gmail.com'  \n",
    "    server = smtplib.SMTP('smtp.gmail.com:587')  \n",
    "    server.ehlo()\n",
    "    server.starttls()\n",
    "    server.login(sender, password)\n",
    "    headers = [\"from: \" + sender,\n",
    "               \"subject: kitchen cleaning\",\n",
    "               \"to: \" + recipient,\n",
    "               \"mime-version: 1.0\",\n",
    "               \"content-type: text/html\"]\n",
    "    headers = \"\\r\\n\".join(headers)\n",
    "    server.sendmail(sender, recipient, headers + \"\\r\\n\\r\\n Hello,<br>This is just a reminder for your kitchen cleaning.</br><br><br> Thank you.</br></br><br><br>This is an auto generated email, please do not reply</br></br>\")\n",
    "    server.quit()\n",
    "schedule.every().sunday.at(\"22:00\").do(email_alert1)\n",
    "schedule.every().monday.at(\"22:00\").do(email_alert2)\n",
    "schedule.every().tuesday.at(\"22:00\").do(email_alert3)\n",
    "schedule.every().wednesday.at(\"22:00\").do(email_alert4)\n",
    "schedule.every().thursday.at(\"22:00\").do(email_alert5)\n",
    "schedule.every().friday.at(\"22:00\").do(email_alert6)\n",
    "\n",
    "while True:\n",
    "    schedule.run_pending()\n",
    "    time.sleep(1)"
   ]
  },
  {
   "cell_type": "code",
   "execution_count": null,
   "metadata": {
    "collapsed": true
   },
   "outputs": [],
   "source": []
  }
 ],
 "metadata": {
  "kernelspec": {
   "display_name": "Python 2",
   "language": "python",
   "name": "python2"
  },
  "language_info": {
   "codemirror_mode": {
    "name": "ipython",
    "version": 2
   },
   "file_extension": ".py",
   "mimetype": "text/x-python",
   "name": "python",
   "nbconvert_exporter": "python",
   "pygments_lexer": "ipython2",
   "version": "2.7.14"
  }
 },
 "nbformat": 4,
 "nbformat_minor": 2
}
