{
 "cells": [
  {
   "cell_type": "code",
   "execution_count": 1,
   "metadata": {
    "collapsed": true
   },
   "outputs": [],
   "source": [
    "import random\n",
    "global a,b,h,show"
   ]
  },
  {
   "cell_type": "code",
   "execution_count": 2,
   "metadata": {
    "collapsed": true
   },
   "outputs": [],
   "source": [
    "class Player_bankroll(object):\n",
    "    def __init__(self,bankroll=100):\n",
    "        self.bankroll=bankroll\n",
    "    def bankroll(self):\n",
    "        self.bankroll=bankroll\n",
    "    def add_money(self,amount):\n",
    "        self.bankroll+=amount\n",
    "    def subtract_money(self,amount):\n",
    "        self.bankroll-=amount"
   ]
  },
  {
   "cell_type": "code",
   "execution_count": 3,
   "metadata": {
    "collapsed": true
   },
   "outputs": [],
   "source": [
    "class Deck(object):\n",
    "    def __init__(self,card=2):\n",
    "        self.card=card\n",
    "    def random_card(self):\n",
    "        self.card= random.choice('23456789AKQJ0')\n",
    "        if self.card==0:\n",
    "            self.card=10\n",
    "        return self.card"
   ]
  },
  {
   "cell_type": "code",
   "execution_count": 4,
   "metadata": {
    "collapsed": true
   },
   "outputs": [],
   "source": [
    "class Hand(Player_bankroll):\n",
    "    def __init__(self,hamt=100):\n",
    "        Player_bankroll.__init__(self)\n",
    "        self.hamt=hamt\n",
    "    def bankrollcheck(self,hamt):\n",
    "        return 0<self.hamt<=self.bankroll"
   ]
  },
  {
   "cell_type": "code",
   "execution_count": 5,
   "metadata": {
    "collapsed": true
   },
   "outputs": [],
   "source": [
    "def wincheck(total,dealer_total):\n",
    "    if total==21:\n",
    "        return True\n",
    "    elif  total>21 or total<dealer_total:\n",
    "        return False"
   ]
  },
  {
   "cell_type": "code",
   "execution_count": 6,
   "metadata": {
    "collapsed": true
   },
   "outputs": [],
   "source": [
    "def start():\n",
    "    while True:\n",
    "        try:\n",
    "            a=input('with how much money you want to start with ?')\n",
    "        except:\n",
    "            print 'oops!! please enter the right amount.'\n",
    "            continue\n",
    "        else:\n",
    "            break\n",
    "    return a"
   ]
  },
  {
   "cell_type": "code",
   "execution_count": 7,
   "metadata": {
    "collapsed": true
   },
   "outputs": [],
   "source": [
    "def amt():\n",
    "    while True:\n",
    "        try:\n",
    "            amt=input('this hand amount ?')\n",
    "        except:\n",
    "            print 'oops!! please enter the right amount.'\n",
    "            continue\n",
    "        else:\n",
    "            break\n",
    "    return amt"
   ]
  },
  {
   "cell_type": "code",
   "execution_count": 8,
   "metadata": {
    "collapsed": true
   },
   "outputs": [],
   "source": [
    "def replay():\n",
    "    inp=raw_input('Do you wish to continue? Enter Yes or No: ').lower().startswith('y')\n",
    "    if inp=='y':\n",
    "        return True\n",
    "    else:\n",
    "        return False"
   ]
  },
  {
   "cell_type": "code",
   "execution_count": 9,
   "metadata": {
    "collapsed": true
   },
   "outputs": [],
   "source": [
    "def nailed(card1,card2):\n",
    "    if (card1=='A' or card2=='A') and (card1==10 or card2==10):\n",
    "        return True"
   ]
  },
  {
   "cell_type": "code",
   "execution_count": 10,
   "metadata": {
    "collapsed": true
   },
   "outputs": [],
   "source": [
    "def cardnumchange(card):\n",
    "    if card==0 or card=='K' or card=='Q' or card=='J':\n",
    "        card=10\n",
    "    return card"
   ]
  },
  {
   "cell_type": "code",
   "execution_count": 11,
   "metadata": {
    "collapsed": true
   },
   "outputs": [],
   "source": [
    "def dealercard():\n",
    "    dcard1=d.random_card()\n",
    "    dcard2=d.random_card()\n",
    "    print 'my visible card is ',dcard2\n",
    "    show=dcard1\n",
    "    dcard1=cardnumchange(dcard1)\n",
    "    dcard2=cardnumchange(dcard2)\n",
    "    return dcard1,dcard2"
   ]
  },
  {
   "cell_type": "code",
   "execution_count": 12,
   "metadata": {},
   "outputs": [
    {
     "ename": "IndentationError",
     "evalue": "unexpected unindent (<ipython-input-12-9e5a77b57d1c>, line 45)",
     "output_type": "error",
     "traceback": [
      "\u001b[0;36m  File \u001b[0;32m\"<ipython-input-12-9e5a77b57d1c>\"\u001b[0;36m, line \u001b[0;32m45\u001b[0m\n\u001b[0;31m    if  replay()==True:\u001b[0m\n\u001b[0m                       ^\u001b[0m\n\u001b[0;31mIndentationError\u001b[0m\u001b[0;31m:\u001b[0m unexpected unindent\n"
     ]
    }
   ],
   "source": [
    "print 'welcome to black jack!'\n",
    "a=start()\n",
    "b=Player_bankroll()\n",
    "h=Hand()\n",
    "hamt=100\n",
    "def main():\n",
    "    try:\n",
    "        while b.bankroll>0 and h.bankrollcheck(hamt):\n",
    "            hamt=amt()\n",
    "            d=Deck()\n",
    "            card1=d.random_card()\n",
    "            card2=d.random_card()\n",
    "            print 'here are your two cards %s and %s:'%(card1,card2)\n",
    "            card1=cardnumchange(card1)\n",
    "            card2=cardnumchange(card2)\n",
    "            dcard1,dcard2=dealercard()\n",
    "            if dcard1+dcard2==21 and card1+card2==21:\n",
    "                print 'my first card is',show\n",
    "                print 'game is a tie'\n",
    "                break\n",
    "            elif nailed(card1,card2):\n",
    "                b.add_money(hamt)\n",
    "                print 'you nailed!'\n",
    "                print 'you have %s in your bankroll'%(b.bankroll)\n",
    "                break\n",
    "            summ=0\n",
    "            while True:\n",
    "                if raw_input('Do you want one more card? Enter y/n: ').lower()=='y':\n",
    "                    cardx=d.random_card()\n",
    "                    print 'here is your card',cardx\n",
    "                    cardx=cardnumchange(cardx)\n",
    "                    summ+=cardx\n",
    "                elif raw_input('Do you want one more card? Enter y/n: ').lower()=='n':\n",
    "                    continue\n",
    "                if card1+card2+summ>21:\n",
    "                    print 'you lost'\n",
    "                    b.subtract_money(hamt)\n",
    "                    print 'you have %s in your bankroll'%(b.bankroll)\n",
    "                    break\n",
    "                elif dcard1+dcard2>card1+card2+summ:\n",
    "                    print 'you won'\n",
    "                    b.add_money(hamt)\n",
    "                    print 'you have %s in your bankroll'%(b.bankroll)\n",
    "                    break\n",
    "if  replay()==True:\n",
    "    print 'here is your bankroll %s'%(b.bankroll)\n",
    "    main()\n",
    "else:\n",
    "    print 'thanks for playing, here is your final bankroll %s'%(b.bankroll)\n",
    "    break"
   ]
  },
  {
   "cell_type": "code",
   "execution_count": null,
   "metadata": {
    "collapsed": true
   },
   "outputs": [],
   "source": []
  },
  {
   "cell_type": "code",
   "execution_count": null,
   "metadata": {
    "collapsed": true
   },
   "outputs": [],
   "source": []
  },
  {
   "cell_type": "code",
   "execution_count": null,
   "metadata": {
    "collapsed": true
   },
   "outputs": [],
   "source": []
  }
 ],
 "metadata": {
  "kernelspec": {
   "display_name": "Python 2",
   "language": "python",
   "name": "python2"
  },
  "language_info": {
   "codemirror_mode": {
    "name": "ipython",
    "version": 2
   },
   "file_extension": ".py",
   "mimetype": "text/x-python",
   "name": "python",
   "nbconvert_exporter": "python",
   "pygments_lexer": "ipython2",
   "version": "2.7.13"
  }
 },
 "nbformat": 4,
 "nbformat_minor": 2
}
