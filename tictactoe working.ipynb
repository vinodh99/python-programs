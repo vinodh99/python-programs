{
 "cells": [
  {
   "cell_type": "code",
   "execution_count": 1,
   "metadata": {},
   "outputs": [],
   "source": [
    "from IPython.display import clear_output\n",
    "l=[0,1,2,3,4,5,6,7,8]\n",
    "output=''\n",
    "pos=456\n",
    "while output!='won' or output!='tie':\n",
    "    def board():\n",
    "        clear_output()\n",
    "        print '   %s    |     %s    |     %s'%(l[0],l[1],l[2])\n",
    "        print '_____________________________'\n",
    "        print ' '\n",
    "        print '   %s    |     %s    |     %s'%(l[3],l[4],l[5])\n",
    "        print '_____________________________'\n",
    "        print ' '\n",
    "        print '   %s    |     %s    |     %s'%(l[6],l[7],l[8])\n",
    "        return\n",
    "    board()\n",
    "    print 'player 1 is X and 2 is O'\n",
    "    inp=input('enter player 1 or 2')\n",
    "    pos=input('please enter the position')\n",
    "        \n",
    "##################    ###########################\n",
    "    if inp==1: \n",
    "        for i in range(0,9):\n",
    "            if pos==i:\n",
    "               l[i]=\"X\"\n",
    "        else:\n",
    "            print 'wrong number'\n",
    "    else:\n",
    "        if pos==0:\n",
    "            l[0]='O'\n",
    "            board()\n",
    "        elif pos==1:\n",
    "            l[1]=\"O\"\n",
    "            board()\n",
    "        elif pos==2:\n",
    "            l[2]=\"O\"\n",
    "            board()\n",
    "        elif pos==3:\n",
    "            l[3]=\"O\"\n",
    "            board()\n",
    "        elif pos==4:\n",
    "            l[4]=\"O\"\n",
    "            board()\n",
    "        elif pos==5:\n",
    "            l[5]=\"O\"\n",
    "            board()\n",
    "        elif pos==6:\n",
    "            l[6]=\"O\"\n",
    "            board()\n",
    "        elif pos==7:\n",
    "            l[7]=\"O\"\n",
    "            board()\n",
    "        elif pos==8:\n",
    "            l[8]=\"O\"\n",
    "            board()\n",
    "        else:\n",
    "             print 'wrong number'\n",
    "    \n",
    "#############    ####################\n",
    "    \n",
    "    if l[0]==l[1]==l[2]=='X' or l[3]==l[4]==l[5]=='X' or l[6]==l[7]==l[8]=='X' or l[0]==l[3]==l[6]=='X' or l[1]==l[4]==l[7]=='X' or l[2]==l[5]==l[8]=='X' or l[0]==l[4]==l[8]=='X' or l[2]==l[4]==l[6]=='X':\n",
    "        output='won'\n",
    "        print \"'X' won\"\n",
    "        break\n",
    "    elif l[0]==l[1]==l[2]=='O' or l[3]==l[4]==l[5]=='O' or l[6]==l[7]==l[8]=='O' or l[0]==l[3]==l[6]=='O' or l[1]==l[4]==l[7]=='O' or l[2]==l[5]==l[8]=='O' or l[0]==l[4]==l[8]=='O' or l[2]==l[4]==l[6]=='O':\n",
    "        output='won'\n",
    "        print \"'O' won\"\n",
    "        break\n",
    "clear_output()\n",
    "        "
   ]
  },
  {
   "cell_type": "code",
   "execution_count": 4,
   "metadata": {},
   "outputs": [
    {
     "name": "stdout",
     "output_type": "stream",
     "text": [
      "<bound method Random.randint of <random.Random object at 0x7fd2cb11dc20>>\n"
     ]
    },
    {
     "data": {
      "text/plain": [
       "'player 2'"
      ]
     },
     "execution_count": 4,
     "metadata": {},
     "output_type": "execute_result"
    }
   ],
   "source": []
  },
  {
   "cell_type": "code",
   "execution_count": null,
   "metadata": {
    "collapsed": true
   },
   "outputs": [],
   "source": []
  }
 ],
 "metadata": {
  "kernelspec": {
   "display_name": "Python 2",
   "language": "python",
   "name": "python2"
  },
  "language_info": {
   "codemirror_mode": {
    "name": "ipython",
    "version": 2
   },
   "file_extension": ".py",
   "mimetype": "text/x-python",
   "name": "python",
   "nbconvert_exporter": "python",
   "pygments_lexer": "ipython2",
   "version": "2.7.13"
  }
 },
 "nbformat": 4,
 "nbformat_minor": 2
}
