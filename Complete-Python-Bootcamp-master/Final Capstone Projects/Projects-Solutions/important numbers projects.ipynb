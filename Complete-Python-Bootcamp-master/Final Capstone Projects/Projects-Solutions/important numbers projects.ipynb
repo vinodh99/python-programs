{
 "cells": [
  {
   "cell_type": "code",
   "execution_count": null,
   "metadata": {},
   "outputs": [],
   "source": [
    "#rounding upto n'th digit\n",
    "import math\n",
    "from IPython.display import clear_output\n",
    "def rounding(n):\n",
    "    return round(math.pi,n)\n",
    "while(True):\n",
    "    try:\n",
    "        clear_output\n",
    "        a=input('how many digits you wanna round?')\n",
    "        print rounding(a)\n",
    "    except:\n",
    "        print 'please enter an integer'\n",
    "    else:\n",
    "        break"
   ]
  },
  {
   "cell_type": "code",
   "execution_count": null,
   "metadata": {},
   "outputs": [],
   "source": [
    "#fibonacci\n",
    "def fibonacci(n):\n",
    "    l=[1,1]\n",
    "    b=1\n",
    "    c=0\n",
    "    a=1\n",
    "    for i in range(0,n-1):\n",
    "        c=a+b\n",
    "        a=b\n",
    "        b=c\n",
    "        l.append(c)\n",
    "    return l"
   ]
  },
  {
   "cell_type": "code",
   "execution_count": null,
   "metadata": {},
   "outputs": [],
   "source": [
    "a=input('enter how many numbers you want by fibonacci sequence?')\n",
    "print fibonacci(a)\n"
   ]
  },
  {
   "cell_type": "markdown",
   "metadata": {},
   "source": [
    "#### "
   ]
  },
  {
   "cell_type": "code",
   "execution_count": null,
   "metadata": {},
   "outputs": [],
   "source": [
    "#prime factorization\n",
    "factors = lambda n: [x for x in range(1,n+1) if not n%x]\n",
    "from __future__ import print_function\n",
    "factors = lambda n: [x for x in range(1,n+1) if not n%x]\n",
    "is_prime = lambda n: len(factors(n))==2\n",
    "primefactors = lambda n: list(filter(is_prime ,factors(n)))\n",
    "def primeFactorize(n):\n",
    "\tn = int(n)\n",
    "\tf = primefactors(n)\n",
    "\tif is_prime(n):\n",
    "\t\treturn str(n)\n",
    "\telse:\n",
    "\t\treturn str(f[0])+ \"*\"+primeFactorize(n/f[0])\n",
    "\n",
    "print (\"Welcome to the Prime Factorizer.. Enter the numbers in the prompt or enter 'quit' to exit\")\n",
    "num=0;\n",
    "while True:\n",
    "\tif num:\n",
    "\t\tprint(primeFactorize(num))\n",
    "\tprint(\">>>\",end='')\n",
    "\tnum=input()\n",
    "\tif num==\"quit\":\n",
    "\t\tbreak"
   ]
  },
  {
   "cell_type": "code",
   "execution_count": null,
   "metadata": {},
   "outputs": [],
   "source": []
  },
  {
   "cell_type": "code",
   "execution_count": null,
   "metadata": {},
   "outputs": [],
   "source": [
    "#!/usr/bin/env python3\n",
    "\n",
    "# Next Prime Number\n",
    "# Generate prime numbers until\n",
    "# the user chooses to stop\n",
    "from __future__ import print_function\n",
    "\n",
    "def isPrime(x):\n",
    "    \"\"\"\n",
    "    Checks whether the given\n",
    "    number x is prime or not\n",
    "    \"\"\"\n",
    "\n",
    "    if x == 2:\n",
    "        return True\n",
    "\n",
    "    if x % 2 == 0:\n",
    "        return False\n",
    "\n",
    "    for i in range(3, int(x**0.5)+1, 2):\n",
    "        if x % i == 0:\n",
    "            return False\n",
    "\n",
    "    return True\n",
    "\n",
    "\n",
    "def genPrime(currentPrime):\n",
    "    \"\"\"\n",
    "    Returns the next prime\n",
    "    after the currentPrime\n",
    "    \"\"\"\n",
    "\n",
    "    newPrime = currentPrime + 1\n",
    "\n",
    "    while True:\n",
    "\n",
    "        if not isPrime(newPrime):\n",
    "            newPrime += 1\n",
    "        else:\n",
    "            break\n",
    "\n",
    "    return newPrime\n",
    "\n",
    "\n",
    "def main():  # Wrapper function\n",
    "\n",
    "    currentPrime = 2\n",
    "\n",
    "    while True:\n",
    "\n",
    "        answer = raw_input('Would you like to see the next prime? (Y/N) ')\n",
    "\n",
    "        if answer.lower().startswith('y'):\n",
    "            print(currentPrime)\n",
    "            currentPrime = genPrime(currentPrime)\n",
    "\n",
    "        else:\n",
    "            break\n",
    "\n",
    "if __name__ == '__main__':\n",
    "    main()"
   ]
  },
  {
   "cell_type": "code",
   "execution_count": null,
   "metadata": {
    "collapsed": true
   },
   "outputs": [],
   "source": [
    "import playsound,time, os, platform"
   ]
  },
  {
   "cell_type": "code",
   "execution_count": null,
   "metadata": {
    "collapsed": true
   },
   "outputs": [],
   "source": [
    "import pdb"
   ]
  },
  {
   "cell_type": "code",
   "execution_count": null,
   "metadata": {},
   "outputs": [
    {
     "name": "stdout",
     "output_type": "stream",
     "text": [
      "What unit of time do you want to wait?\n",
      " (1) Hours\n",
      " (2) Minutes\n",
      " (3) Seconds\n",
      " (4) Combination\n",
      ": 3\n",
      "Enter the desired seconds: 3\n",
      "hello1\n",
      "\n",
      "Wait time: 3 seconds.\n",
      "Wait time:seconds.\n",
      "do you wish to set another alarm? y/ny\n",
      "What unit of time do you want to wait?\n",
      " (1) Hours\n",
      " (2) Minutes\n",
      " (3) Seconds\n",
      " (4) Combination\n"
     ]
    }
   ],
   "source": [
    "#alarm working\n",
    "\n",
    "import time, os, platform\n",
    "from __future__ import print_function\n",
    "from playsound import playsound\n",
    "def sound():\n",
    "\n",
    "    for i in range(1): # Number of repeats\n",
    "        for j in range(9): # Number of beeps\n",
    "            playsound('/Users/vinodh/Downloads/beep-01a.mp3')\n",
    "             # Sound played\n",
    "            \n",
    "        time.sleep(2) # How long between beeps\n",
    "\n",
    "def alarm(n):\n",
    "    print ('hello1')\n",
    "    print()\n",
    "    print(\"Wait time:\", n, \"seconds.\")\n",
    "    time.sleep(n) # Waits 'n' seconds before playing sound\n",
    "    sound()\n",
    "    print(\"Wait time:seconds.\")\n",
    "\n",
    "def input_destinations(user_input):\n",
    "\n",
    "\tif user_input == '1':\n",
    "\t\t\n",
    "\t\tuser_input = int(input(\"Enter the desired hours: \"))\n",
    "\t\t\n",
    "\t\twait_time = (user_input * 60) * 60\n",
    "\t\talarm(wait_time)\n",
    "\t\n",
    "\telif user_input == '2':\n",
    "\t\t\n",
    "\t\tuser_input = int(input(\"Enter the desired minutes: \"))\n",
    "\t\t\n",
    "\t\twait_time = user_input * 60\n",
    "\t\talarm(wait_time)\n",
    "\n",
    "\telif user_input == '3':\n",
    "\n",
    "\t\tuser_input = int(input(\"Enter the desired seconds: \"))\n",
    "\n",
    "\t\twait_time = user_input\n",
    "\t\talarm(wait_time)\n",
    "\n",
    "\telif user_input == '4':\n",
    "\n",
    "\t\thours = int(input(\"Hours: \"))\n",
    "\t\tminutes = int(input(\"Minutes: \"))\n",
    "\t\tseconds = int(input(\"Seconds: \"))\n",
    "\n",
    "\t\twait_time = ((hours*60)*60) + (minutes*60) + seconds\n",
    "\t\tprint(wait_time)\n",
    "\t\talarm(wait_time)\n",
    "\n",
    "\telse:\n",
    "\t\t\n",
    "\t\ttry:\n",
    "\t\t\tos.system('cls') # If OS is Windows\n",
    "\t\t\tmain()\n",
    "\t\t\t\n",
    "\t\texcept:\n",
    "\t\t\tos.system('clear') # If OS is Linux or Mac\n",
    "\t\t\tmain()\n",
    "def main():  \n",
    "    print(\"What unit of time do you want to wait?\\n (1) Hours\\n (2) Minutes\\n (3) Seconds\\n (4) Combination\")\n",
    "    main_input = raw_input(\": \")\n",
    "    input_destinations(main_input)\n",
    "main()\n",
    "if raw_input('do you wish to set another alarm? y/n: ').lower().startswith('y'):\n",
    "    main()\n",
    "    "
   ]
  },
  {
   "cell_type": "code",
   "execution_count": null,
   "metadata": {
    "collapsed": true
   },
   "outputs": [],
   "source": []
  }
 ],
 "metadata": {
  "kernelspec": {
   "display_name": "Python 2",
   "language": "python",
   "name": "python2"
  },
  "language_info": {
   "codemirror_mode": {
    "name": "ipython",
    "version": 2
   },
   "file_extension": ".py",
   "mimetype": "text/x-python",
   "name": "python",
   "nbconvert_exporter": "python",
   "pygments_lexer": "ipython2",
   "version": "2.7.13"
  }
 },
 "nbformat": 4,
 "nbformat_minor": 2
}
