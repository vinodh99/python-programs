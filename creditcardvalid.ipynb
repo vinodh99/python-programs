{
 "cells": [
  {
   "cell_type": "code",
   "execution_count": 9,
   "metadata": {},
   "outputs": [
    {
     "name": "stdout",
     "output_type": "stream",
     "text": [
      "Enter card number : g\n",
      "Invalid Card Number\n"
     ]
    }
   ],
   "source": [
    "\"\"\"\n",
    "reg exps        : taken from http://www.regular-expressions.info/creditcard.html\n",
    "luhn validation : taken from wikipedia\n",
    "test cases      : taken from http://creditcardity.com/\n",
    "\"\"\"\n",
    "import re\n",
    "import sys\n",
    "\n",
    "visa = r'^4[0-9]{12}(?:[0-9]{3})?$', \"Visa\"\n",
    "mastercard = r'^5[1-5][0-9]{14}$', \"Master Card\"\n",
    "am_express = r'^3[47][0-9]{13}$', \"American Express\"\n",
    "diners_club = '^3(?:0[0-5]|[68][0-9])[0-9]{11}$', \"Diners Club\"\n",
    "discover = r'^6(?:011|5[0-9]{2})[0-9]{12}$', \"Discover\"\n",
    "jcb = r'^(?:2131|1800|35\\d{3})\\d{11}$', \"JCB\"\n",
    "\n",
    "cards = [visa, mastercard, am_express, diners_club, discover, jcb]\n",
    "invalid_message = \"Invalid Card Number\"\n",
    "unidentified_message = \"Unidentified Card Type\"\n",
    "\n",
    "\n",
    "def luhn_checksum(card_number):\n",
    "    def digits_of(n):\n",
    "        return [int(d) for d in str(n)]\n",
    "\n",
    "    digits = digits_of(card_number)\n",
    "    odd_digits = digits[-1::-2]\n",
    "    even_digits = digits[-2::-2]\n",
    "    checksum = 0\n",
    "    checksum += sum(odd_digits)\n",
    "    for d in even_digits:\n",
    "        checksum += sum(digits_of(d * 2))\n",
    "    return checksum % 10\n",
    "\n",
    "\n",
    "def is_luhn_valid(card_number):\n",
    "    return luhn_checksum(card_number) == 0\n",
    "\n",
    "\n",
    "def main(card_string):\n",
    "    card_string = card_string.replace(\" \", \"\")\n",
    "    card_string = card_string.replace(\"-\", \"\")\n",
    "    try:\n",
    "        card_int = int(card_string)\n",
    "        if not is_luhn_valid(card_int):\n",
    "            return invalid_message\n",
    "        for exp, message in cards:\n",
    "            mat = re.match(exp, card_string)\n",
    "            if mat:\n",
    "                return message\n",
    "        return unidentified_message\n",
    "\n",
    "    except ValueError:\n",
    "        return invalid_message\n",
    "\n",
    "\n",
    "def test():\n",
    "    mastercard_test = (5105105105105100, 5555555555554444)\n",
    "    diners_club_test = (38520000023237, 30569309025904)\n",
    "    visa_test = (4222222222222, 4111111111111111, 4012888888881881)\n",
    "    am_express_test = (378282246310005, 371449635398431, 378734493671000)\n",
    "    discover_test = (6011111111111117, 6011000990139424)\n",
    "    jcb_test = (3530111333300000, 3566002020360505)\n",
    "    tests = {mastercard[1]: mastercard_test,\n",
    "             diners_club[1]: diners_club_test,\n",
    "             visa[1]: visa_test,\n",
    "             am_express[1]: am_express_test,\n",
    "             discover[1]: discover_test,\n",
    "             jcb[1]: jcb_test}\n",
    "    total_tests = 0\n",
    "    failed_tests = 0\n",
    "    for card_type, card_numbers in tests.iteritems():\n",
    "        for card in card_numbers:\n",
    "            if card_type != main(str(card)):\n",
    "                failed_tests += 1\n",
    "            total_tests += 1\n",
    "    if failed_tests != 0:\n",
    "        print \"%s out %s tests failed\" % (failed_tests, total_tests)\n",
    "    else:\n",
    "        print \"all tests passed\"\n",
    "\n",
    "\n",
    "if __name__ == '__main__':\n",
    "    args = len(sys.argv)\n",
    "    if args > 1 and sys.argv[1] == \"test\":\n",
    "        test()\n",
    "    else:\n",
    "        cardnumer = raw_input(\"Enter card number : \")\n",
    "        print main(cardnumer)"
   ]
  },
  {
   "cell_type": "code",
   "execution_count": 11,
   "metadata": {},
   "outputs": [
    {
     "data": {
      "text/plain": [
       "u'/Users/vinodh/python samples/Complete-Python-Bootcamp-master/Final Capstone Projects/Projects-Solutions'"
      ]
     },
     "execution_count": 11,
     "metadata": {},
     "output_type": "execute_result"
    }
   ],
   "source": [
    "pwd"
   ]
  },
  {
   "cell_type": "code",
   "execution_count": null,
   "metadata": {
    "collapsed": true
   },
   "outputs": [],
   "source": []
  }
 ],
 "metadata": {
  "kernelspec": {
   "display_name": "Python 2",
   "language": "python",
   "name": "python2"
  },
  "language_info": {
   "codemirror_mode": {
    "name": "ipython",
    "version": 2
   },
   "file_extension": ".py",
   "mimetype": "text/x-python",
   "name": "python",
   "nbconvert_exporter": "python",
   "pygments_lexer": "ipython2",
   "version": "2.7.13"
  }
 },
 "nbformat": 4,
 "nbformat_minor": 2
}
